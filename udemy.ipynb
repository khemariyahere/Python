{
 "cells": [
  {
   "cell_type": "code",
   "execution_count": 2,
   "metadata": {},
   "outputs": [],
   "source": [
    "sarah , bob , avi = 21,54,24"
   ]
  },
  {
   "cell_type": "code",
   "execution_count": 3,
   "metadata": {},
   "outputs": [
    {
     "data": {
      "text/plain": [
       "21"
      ]
     },
     "execution_count": 3,
     "metadata": {},
     "output_type": "execute_result"
    }
   ],
   "source": [
    "sarah"
   ]
  },
  {
   "cell_type": "code",
   "execution_count": 4,
   "metadata": {},
   "outputs": [],
   "source": [
    "name , age = \"bob\", 24"
   ]
  },
  {
   "cell_type": "code",
   "execution_count": 5,
   "metadata": {},
   "outputs": [
    {
     "data": {
      "text/plain": [
       "(24, 'bob')"
      ]
     },
     "execution_count": 5,
     "metadata": {},
     "output_type": "execute_result"
    }
   ],
   "source": [
    "age , name"
   ]
  },
  {
   "cell_type": "code",
   "execution_count": 6,
   "metadata": {},
   "outputs": [
    {
     "name": "stdout",
     "output_type": "stream",
     "text": [
      "bob is 24 years old.\n"
     ]
    }
   ],
   "source": [
    "print(\"%s is %d years old.\" % (name , age))"
   ]
  },
  {
   "cell_type": "code",
   "execution_count": 7,
   "metadata": {},
   "outputs": [],
   "source": [
    "lee = {'fir':20,'sec':25}"
   ]
  },
  {
   "cell_type": "code",
   "execution_count": 8,
   "metadata": {},
   "outputs": [
    {
     "name": "stdout",
     "output_type": "stream",
     "text": [
      "20\n"
     ]
    }
   ],
   "source": [
    "print(\"%(fir)s\" % lee)"
   ]
  },
  {
   "cell_type": "code",
   "execution_count": 12,
   "metadata": {},
   "outputs": [],
   "source": [
    "lee['fir'] = 25"
   ]
  },
  {
   "cell_type": "code",
   "execution_count": 13,
   "metadata": {},
   "outputs": [
    {
     "data": {
      "text/plain": [
       "{'fir': 25, 'sec': 25}"
      ]
     },
     "execution_count": 13,
     "metadata": {},
     "output_type": "execute_result"
    }
   ],
   "source": [
    "lee"
   ]
  },
  {
   "cell_type": "code",
   "execution_count": 18,
   "metadata": {},
   "outputs": [
    {
     "name": "stdout",
     "output_type": "stream",
     "text": [
      "eneter number a23\n",
      "eneter number b25\n",
      "ypur answer is 48\n"
     ]
    }
   ],
   "source": [
    "def solveMeFirst():\n",
    "    a = int(input(\"eneter number a \"))\n",
    "    b = int(input(\"eneter number b \"))\n",
    "    \n",
    "    ans = a+b\n",
    "    print(\"ypur answer is %d\" %ans)\n",
    "solveMeFirst()"
   ]
  },
  {
   "cell_type": "code",
   "execution_count": 38,
   "metadata": {},
   "outputs": [
    {
     "name": "stdout",
     "output_type": "stream",
     "text": [
      "input a positive number10\n",
      "weird\n"
     ]
    }
   ],
   "source": [
    "def fun():\n",
    "    n = int(input(\"input a positive number\"))\n",
    "    while n < 0:\n",
    "        n = int(input(\"please input a positive number\"))\n",
    "    if (n%2) > 0\n",
    "        print(\"weird\")\n",
    "    if (n%2) == 0:\n",
    "        if n >= 2 and n <= 5:\n",
    "            print(\"not weird\")\n",
    "        if n >= 6 and n <= 20:\n",
    "            print(\"weird\")\n",
    "        if n >= 20:\n",
    "            print(\"not weird\")\n",
    "fun()"
   ]
  },
  {
   "cell_type": "code",
   "execution_count": 19,
   "metadata": {},
   "outputs": [
    {
     "data": {
      "text/plain": [
       "0.03"
      ]
     },
     "execution_count": 19,
     "metadata": {},
     "output_type": "execute_result"
    }
   ],
   "source": [
    "0.03%1"
   ]
  },
  {
   "cell_type": "code",
   "execution_count": 20,
   "metadata": {},
   "outputs": [
    {
     "data": {
      "text/plain": [
       "0"
      ]
     },
     "execution_count": 20,
     "metadata": {},
     "output_type": "execute_result"
    }
   ],
   "source": [
    "5%1"
   ]
  },
  {
   "cell_type": "code",
   "execution_count": 41,
   "metadata": {},
   "outputs": [
    {
     "data": {
      "text/plain": [
       "'hello'"
      ]
     },
     "execution_count": 41,
     "metadata": {},
     "output_type": "execute_result"
    }
   ],
   "source": [
    "a = \"11111hello11111\"\n",
    "a.strip(\"1\")"
   ]
  },
  {
   "cell_type": "code",
   "execution_count": 44,
   "metadata": {},
   "outputs": [
    {
     "name": "stdout",
     "output_type": "stream",
     "text": [
      "25\n",
      "25\n",
      "50\n",
      "0\n",
      "625\n"
     ]
    }
   ],
   "source": [
    "def fudo():\n",
    "    a = int(input(\"\"))\n",
    "    b = int(input(\"\"))\n",
    "    print(a+b)\n",
    "    print(a-b)\n",
    "    print(a*b)\n",
    "fudo()"
   ]
  },
  {
   "cell_type": "code",
   "execution_count": 48,
   "metadata": {},
   "outputs": [
    {
     "name": "stdout",
     "output_type": "stream",
     "text": [
      "2\n",
      "5\n",
      "0\n",
      "0.4\n"
     ]
    }
   ],
   "source": [
    "from math import*\n",
    "def div():\n",
    "    a = int(input(\"\"))\n",
    "    b = int(input(\"\"))\n",
    "    print(floor(a/b))\n",
    "    print(a/b)\n",
    "div()"
   ]
  },
  {
   "cell_type": "code",
   "execution_count": 58,
   "metadata": {},
   "outputs": [
    {
     "name": "stdout",
     "output_type": "stream",
     "text": [
      "6\n",
      "1\n",
      "4\n",
      "9\n",
      "16\n",
      "25\n"
     ]
    }
   ],
   "source": [
    "def sq():\n",
    "    n = int(input(\"\"))\n",
    "    i = 1\n",
    "    while i < n:\n",
    "        print(i*i)\n",
    "        i= i+1\n",
    "sq()"
   ]
  },
  {
   "cell_type": "code",
   "execution_count": 2,
   "metadata": {},
   "outputs": [
    {
     "name": "stdout",
     "output_type": "stream",
     "text": [
      "9\n",
      "0\n",
      "1\n",
      "4\n",
      "9\n",
      "16\n",
      "25\n",
      "36\n",
      "49\n",
      "64\n"
     ]
    }
   ],
   "source": [
    "if __name__ == '__main__':\n",
    "    n = int(input())\n",
    "for i in range(n):\n",
    "    print(pow(i,2))"
   ]
  },
  {
   "cell_type": "code",
   "execution_count": 70,
   "metadata": {},
   "outputs": [
    {
     "name": "stdout",
     "output_type": "stream",
     "text": [
      "2100\n",
      "False\n"
     ]
    }
   ],
   "source": [
    "def is_leap():\n",
    "    n = int(input())\n",
    "    if (n%4) == 0:\n",
    "        if (n%400)==0:\n",
    "            print(\"True\")\n",
    "        elif (n%100)==0 and (n%400)>0:\n",
    "            print(\"False\")\n",
    "        else:\n",
    "            print(\"True\")\n",
    "is_leap()"
   ]
  },
  {
   "cell_type": "code",
   "execution_count": 15,
   "metadata": {},
   "outputs": [],
   "source": [
    "def sq_fun():\n",
    "    x = int(input(\"eneter the number of rows you want : \"))\n",
    "    for i in range(x):\n",
    "        for j in range(i):\n",
    "            print(j*j, end = \" \")\n",
    "        print(\"\")\n",
    "    \n",
    "    "
   ]
  },
  {
   "cell_type": "code",
   "execution_count": 18,
   "metadata": {},
   "outputs": [
    {
     "name": "stdout",
     "output_type": "stream",
     "text": [
      "eneter the number of rows you want : 25\n",
      "\n",
      "0 \n",
      "0 1 \n",
      "0 1 4 \n",
      "0 1 4 9 \n",
      "0 1 4 9 16 \n",
      "0 1 4 9 16 25 \n",
      "0 1 4 9 16 25 36 \n",
      "0 1 4 9 16 25 36 49 \n",
      "0 1 4 9 16 25 36 49 64 \n",
      "0 1 4 9 16 25 36 49 64 81 \n",
      "0 1 4 9 16 25 36 49 64 81 100 \n",
      "0 1 4 9 16 25 36 49 64 81 100 121 \n",
      "0 1 4 9 16 25 36 49 64 81 100 121 144 \n",
      "0 1 4 9 16 25 36 49 64 81 100 121 144 169 \n",
      "0 1 4 9 16 25 36 49 64 81 100 121 144 169 196 \n",
      "0 1 4 9 16 25 36 49 64 81 100 121 144 169 196 225 \n",
      "0 1 4 9 16 25 36 49 64 81 100 121 144 169 196 225 256 \n",
      "0 1 4 9 16 25 36 49 64 81 100 121 144 169 196 225 256 289 \n",
      "0 1 4 9 16 25 36 49 64 81 100 121 144 169 196 225 256 289 324 \n",
      "0 1 4 9 16 25 36 49 64 81 100 121 144 169 196 225 256 289 324 361 \n",
      "0 1 4 9 16 25 36 49 64 81 100 121 144 169 196 225 256 289 324 361 400 \n",
      "0 1 4 9 16 25 36 49 64 81 100 121 144 169 196 225 256 289 324 361 400 441 \n",
      "0 1 4 9 16 25 36 49 64 81 100 121 144 169 196 225 256 289 324 361 400 441 484 \n",
      "0 1 4 9 16 25 36 49 64 81 100 121 144 169 196 225 256 289 324 361 400 441 484 529 \n"
     ]
    }
   ],
   "source": [
    "sq_fun()"
   ]
  },
  {
   "cell_type": "code",
   "execution_count": 20,
   "metadata": {},
   "outputs": [
    {
     "name": "stdout",
     "output_type": "stream",
     "text": [
      "200\n",
      "False\n"
     ]
    }
   ],
   "source": [
    "def is_leap(year):\n",
    "    leap = \"False\"\n",
    "    if (year%4) == 0:\n",
    "        if (year%400)==0:\n",
    "            leap = \"True\"\n",
    "        elif (year%100)==0 and (year%400)>0:\n",
    "            leap = \"False\"\n",
    "        else:\n",
    "            leap = \"True\"\n",
    "    \n",
    "    # Write your logic here\n",
    "    \n",
    "    return leap\n",
    "\n",
    "year = int(input())\n",
    "print(is_leap(year))"
   ]
  },
  {
   "cell_type": "code",
   "execution_count": 33,
   "metadata": {},
   "outputs": [
    {
     "name": "stdout",
     "output_type": "stream",
     "text": [
      "enter your credit card number : 485\n",
      "yes\n"
     ]
    }
   ],
   "source": [
    "def is_valid():\n",
    "    x = input(\"enter your credit card number : \")\n",
    "    y = int(x[0])\n",
    "    list = (0,1,2,3,4,5,6,7,8,9)\n",
    "    if len(x) == 3:\n",
    "        for value in list:\n",
    "            for i in x:\n",
    "                \n",
    "        if y == 4 or y == 5 or y== 6:\n",
    "            print(\"yes\")\n",
    "        \n",
    "    \n",
    "        \n",
    "is_valid()"
   ]
  },
  {
   "cell_type": "code",
   "execution_count": 49,
   "metadata": {},
   "outputs": [
    {
     "data": {
      "text/plain": [
       "[[0, 0, 0], [0, 0, 1], [0, 1, 0], [1, 0, 0], [1, 1, 1]]"
      ]
     },
     "execution_count": 49,
     "metadata": {},
     "output_type": "execute_result"
    }
   ],
   "source": [
    "x =1\n",
    "y=1\n",
    "z=1\n",
    "n = 2\n",
    "ListOfThreeMultiples = [[i,j,k] for i in range(x+1) for j in range(y+1) for k in range(z+1) if i+j+k != n]\n",
    "ListOfThreeMultiples"
   ]
  },
  {
   "cell_type": "code",
   "execution_count": 42,
   "metadata": {},
   "outputs": [
    {
     "name": "stdout",
     "output_type": "stream",
     "text": [
      "<generator object <genexpr> at 0x0000012FBF78D1B0>\n"
     ]
    }
   ],
   "source": [
    "x = 2\n",
    "y=3\n",
    "z=4\n",
    "n = 5\n",
    "print([i,j,k] for i in range(x) for j in range(y) for k in range(z))"
   ]
  },
  {
   "cell_type": "code",
   "execution_count": 43,
   "metadata": {},
   "outputs": [
    {
     "name": "stdout",
     "output_type": "stream",
     "text": [
      "<generator object <genexpr> at 0x0000012FBF78D1B0>\n"
     ]
    }
   ],
   "source": [
    "x = 5\n",
    "print([i] for i in range(x))"
   ]
  },
  {
   "cell_type": "code",
   "execution_count": 44,
   "metadata": {},
   "outputs": [
    {
     "name": "stdout",
     "output_type": "stream",
     "text": [
      "[[1, 4], [1, 5], [1, 6], [2, 4], [2, 5], [2, 6], [3, 4], [3, 5], [3, 6]]\n"
     ]
    }
   ],
   "source": [
    "print([[x, y] for x in [1, 2, 3] for y in [4, 5, 6]])"
   ]
  },
  {
   "cell_type": "code",
   "execution_count": 3,
   "metadata": {},
   "outputs": [
    {
     "name": "stdout",
     "output_type": "stream",
     "text": [
      "5\n",
      "1\n",
      "2\n",
      "5\n",
      "4\n",
      "6\n",
      "[1, 2, 5, 4, 6]\n"
     ]
    }
   ],
   "source": [
    "def fun():\n",
    "    n = int(input())\n",
    "    arr = []\n",
    "    for i in range(n):\n",
    "        l = int(input())\n",
    "        arr.append(l)\n",
    "    print(arr)\n",
    "fun()"
   ]
  },
  {
   "cell_type": "code",
   "execution_count": 3,
   "metadata": {},
   "outputs": [
    {
     "name": "stdout",
     "output_type": "stream",
     "text": [
      "4 5 6\n",
      "[4, 5, 6]\n"
     ]
    }
   ],
   "source": [
    "a = list(map(int , input().split(\" \")))\n",
    "print(a)"
   ]
  },
  {
   "cell_type": "code",
   "execution_count": 6,
   "metadata": {},
   "outputs": [
    {
     "name": "stdout",
     "output_type": "stream",
     "text": [
      "4 5 6\n"
     ]
    },
    {
     "data": {
      "text/plain": [
       "[4, 5, 6]"
      ]
     },
     "execution_count": 6,
     "metadata": {},
     "output_type": "execute_result"
    }
   ],
   "source": [
    "a=list(map(int,input().strip().split(\" \")))\n",
    "a"
   ]
  },
  {
   "cell_type": "code",
   "execution_count": 5,
   "metadata": {},
   "outputs": [
    {
     "data": {
      "text/plain": [
       "[4, 5, 6]"
      ]
     },
     "execution_count": 5,
     "metadata": {},
     "output_type": "execute_result"
    }
   ],
   "source": [
    "a"
   ]
  },
  {
   "cell_type": "code",
   "execution_count": null,
   "metadata": {},
   "outputs": [],
   "source": [
    "a = list()"
   ]
  },
  {
   "cell_type": "code",
   "execution_count": 10,
   "metadata": {},
   "outputs": [],
   "source": [
    "#lists\n",
    "a = [1,2,3,4,5]\n",
    "#can be changed deleted\n",
    "#a.append(\"ajbsdh\")\n",
    "#del a[0]"
   ]
  },
  {
   "cell_type": "code",
   "execution_count": 18,
   "metadata": {},
   "outputs": [
    {
     "name": "stdout",
     "output_type": "stream",
     "text": [
      "[1, 2, 3, 4, 5]\n",
      "5\n",
      "1\n",
      "5\n"
     ]
    }
   ],
   "source": [
    "print(a)\n",
    "print(max(a))\n",
    "print(min(a))\n",
    "print(len(a))"
   ]
  },
  {
   "cell_type": "code",
   "execution_count": 20,
   "metadata": {},
   "outputs": [],
   "source": [
    "# dictionary\n",
    "lee = {'fir':20,'sec':25}\n",
    "# del can also be used"
   ]
  },
  {
   "cell_type": "code",
   "execution_count": 24,
   "metadata": {},
   "outputs": [
    {
     "data": {
      "text/plain": [
       "20"
      ]
     },
     "execution_count": 24,
     "metadata": {},
     "output_type": "execute_result"
    }
   ],
   "source": [
    "lee[\"fir\"]"
   ]
  },
  {
   "cell_type": "code",
   "execution_count": 32,
   "metadata": {},
   "outputs": [],
   "source": [
    "tuple  = {1,2,3,4,5}\n",
    "tup = {6,7,8,9}\n"
   ]
  },
  {
   "cell_type": "code",
   "execution_count": 33,
   "metadata": {},
   "outputs": [
    {
     "ename": "TypeError",
     "evalue": "unsupported operand type(s) for +: 'set' and 'set'",
     "output_type": "error",
     "traceback": [
      "\u001b[1;31m---------------------------------------------------------------------------\u001b[0m",
      "\u001b[1;31mTypeError\u001b[0m                                 Traceback (most recent call last)",
      "\u001b[1;32m<ipython-input-33-2ffca9da2ae6>\u001b[0m in \u001b[0;36m<module>\u001b[1;34m\u001b[0m\n\u001b[1;32m----> 1\u001b[1;33m \u001b[0mt\u001b[0m \u001b[1;33m=\u001b[0m \u001b[0mtup\u001b[0m \u001b[1;33m+\u001b[0m \u001b[0mtuple\u001b[0m\u001b[1;33m\u001b[0m\u001b[1;33m\u001b[0m\u001b[0m\n\u001b[0m",
      "\u001b[1;31mTypeError\u001b[0m: unsupported operand type(s) for +: 'set' and 'set'"
     ]
    }
   ],
   "source": [
    "t = tup + tuple"
   ]
  },
  {
   "cell_type": "code",
   "execution_count": 39,
   "metadata": {},
   "outputs": [
    {
     "name": "stdout",
     "output_type": "stream",
     "text": [
      "1\n",
      "5\n",
      "9\n",
      "13\n",
      "17\n"
     ]
    }
   ],
   "source": [
    "for i in range(1,50,4):\n",
    "    print(i)\n",
    "    if i == 17:\n",
    "        break\n",
    "#break works in python"
   ]
  },
  {
   "cell_type": "code",
   "execution_count": 40,
   "metadata": {},
   "outputs": [
    {
     "name": "stdout",
     "output_type": "stream",
     "text": [
      "1\n",
      "5\n",
      "9\n",
      "17\n",
      "21\n",
      "25\n",
      "29\n",
      "33\n",
      "37\n",
      "41\n",
      "45\n",
      "49\n"
     ]
    }
   ],
   "source": [
    "for i in range(1,50,4):\n",
    "    if i == 13:\n",
    "        continue\n",
    "    print(i)"
   ]
  },
  {
   "cell_type": "code",
   "execution_count": 41,
   "metadata": {},
   "outputs": [
    {
     "data": {
      "text/plain": [
       "24"
      ]
     },
     "execution_count": 41,
     "metadata": {},
     "output_type": "execute_result"
    }
   ],
   "source": [
    "abs(-24)\n",
    "# abs takes magnitude of integer"
   ]
  },
  {
   "cell_type": "code",
   "execution_count": 43,
   "metadata": {},
   "outputs": [
    {
     "data": {
      "text/plain": [
       "['__abs__',\n",
       " '__add__',\n",
       " '__and__',\n",
       " '__bool__',\n",
       " '__ceil__',\n",
       " '__class__',\n",
       " '__delattr__',\n",
       " '__dir__',\n",
       " '__divmod__',\n",
       " '__doc__',\n",
       " '__eq__',\n",
       " '__float__',\n",
       " '__floor__',\n",
       " '__floordiv__',\n",
       " '__format__',\n",
       " '__ge__',\n",
       " '__getattribute__',\n",
       " '__getnewargs__',\n",
       " '__gt__',\n",
       " '__hash__',\n",
       " '__index__',\n",
       " '__init__',\n",
       " '__init_subclass__',\n",
       " '__int__',\n",
       " '__invert__',\n",
       " '__le__',\n",
       " '__lshift__',\n",
       " '__lt__',\n",
       " '__mod__',\n",
       " '__mul__',\n",
       " '__ne__',\n",
       " '__neg__',\n",
       " '__new__',\n",
       " '__or__',\n",
       " '__pos__',\n",
       " '__pow__',\n",
       " '__radd__',\n",
       " '__rand__',\n",
       " '__rdivmod__',\n",
       " '__reduce__',\n",
       " '__reduce_ex__',\n",
       " '__repr__',\n",
       " '__rfloordiv__',\n",
       " '__rlshift__',\n",
       " '__rmod__',\n",
       " '__rmul__',\n",
       " '__ror__',\n",
       " '__round__',\n",
       " '__rpow__',\n",
       " '__rrshift__',\n",
       " '__rshift__',\n",
       " '__rsub__',\n",
       " '__rtruediv__',\n",
       " '__rxor__',\n",
       " '__setattr__',\n",
       " '__sizeof__',\n",
       " '__str__',\n",
       " '__sub__',\n",
       " '__subclasshook__',\n",
       " '__truediv__',\n",
       " '__trunc__',\n",
       " '__xor__',\n",
       " 'bit_length',\n",
       " 'conjugate',\n",
       " 'denominator',\n",
       " 'from_bytes',\n",
       " 'imag',\n",
       " 'numerator',\n",
       " 'real',\n",
       " 'to_bytes']"
      ]
     },
     "execution_count": 43,
     "metadata": {},
     "output_type": "execute_result"
    }
   ],
   "source": [
    "dir(23)\n",
    "# which functions can we apply"
   ]
  },
  {
   "cell_type": "code",
   "execution_count": 44,
   "metadata": {},
   "outputs": [],
   "source": [
    "sent = \"hello\""
   ]
  },
  {
   "cell_type": "code",
   "execution_count": 45,
   "metadata": {},
   "outputs": [
    {
     "name": "stdout",
     "output_type": "stream",
     "text": [
      "Help on built-in function upper:\n",
      "\n",
      "upper() method of builtins.str instance\n",
      "    Return a copy of the string converted to uppercase.\n",
      "\n"
     ]
    }
   ],
   "source": [
    "help(sent.upper)"
   ]
  },
  {
   "cell_type": "code",
   "execution_count": 46,
   "metadata": {},
   "outputs": [
    {
     "name": "stdout",
     "output_type": "stream",
     "text": [
      "something\n"
     ]
    }
   ],
   "source": [
    "senty = 'print(\"something\")'            # execute what is written inside\n",
    "exec(senty)"
   ]
  },
  {
   "cell_type": "code",
   "execution_count": 10,
   "metadata": {},
   "outputs": [
    {
     "name": "stdout",
     "output_type": "stream",
     "text": [
      "what is your processor21\n",
      "ram of computer22\n",
      "your configurations are  21 22\n",
      "your configurations are  i5 16\n",
      "your configurations are  21 22\n"
     ]
    }
   ],
   "source": [
    "class computer:\n",
    "    def __init__(self,cpu,ram):\n",
    "        self.cpu = cpu\n",
    "        self.ram = ram\n",
    "        print(\"your configurations are \" , self.cpu , self.ram) # self.__  is for calling or refering data of perticular object not class\n",
    "    def conf(self):\n",
    "        print(\"your configurations are \" , self.cpu , self.ram)\n",
    "        \n",
    "com1 = computer(input(\"what is your processor\"), input(\"ram of computer\"))\n",
    "com2 = computer(\"i5\",16)\n",
    "com1.conf()"
   ]
  },
  {
   "cell_type": "code",
   "execution_count": 25,
   "metadata": {},
   "outputs": [
    {
     "name": "stdout",
     "output_type": "stream",
     "text": [
      "they are same\n",
      "razor\n",
      "dell\n",
      "dell\n",
      "this is experiment class.\n"
     ]
    }
   ],
   "source": [
    "class compute:\n",
    "    \n",
    "    computer = \"Lenovo\"\n",
    "    def __init__(self):\n",
    "        self.cpu = \"cpu\"\n",
    "        self.ram = \"ram\"\n",
    "    def compare(self,other):\n",
    "        if self.ram == other.ram:\n",
    "            print(\"they are same\")\n",
    "        else:\n",
    "            print(\"they are different\")\n",
    "    @classmethod\n",
    "    def info(cls):\n",
    "        return(cls.computer)\n",
    "    \n",
    "    @staticmethod\n",
    "    def infor():\n",
    "        print(\"this is experiment class.\")\n",
    "\n",
    "   \n",
    "\n",
    "    \n",
    "    \n",
    "c1 = compute()\n",
    "c1.cpu = \"razor\"\n",
    "c2 = compute()\n",
    "c1.compare(c2) # printing\n",
    "print(c1.cpu)\n",
    "compute.computer = \"dell\"\n",
    "print(c1.computer)\n",
    "\n",
    "\n",
    "\n",
    "\n",
    "\n",
    "print(compute.info())\n",
    "\n",
    "compute.infor()"
   ]
  },
  {
   "cell_type": "code",
   "execution_count": null,
   "metadata": {},
   "outputs": [],
   "source": []
  }
 ],
 "metadata": {
  "kernelspec": {
   "display_name": "Python 3",
   "language": "python",
   "name": "python3"
  },
  "language_info": {
   "codemirror_mode": {
    "name": "ipython",
    "version": 3
   },
   "file_extension": ".py",
   "mimetype": "text/x-python",
   "name": "python",
   "nbconvert_exporter": "python",
   "pygments_lexer": "ipython3",
   "version": "3.7.3"
  }
 },
 "nbformat": 4,
 "nbformat_minor": 2
}
